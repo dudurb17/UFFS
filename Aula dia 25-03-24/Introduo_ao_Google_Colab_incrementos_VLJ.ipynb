{
  "nbformat": 4,
  "nbformat_minor": 0,
  "metadata": {
    "kernelspec": {
      "display_name": "Python 3",
      "language": "python",
      "name": "python3"
    },
    "language_info": {
      "codemirror_mode": {
        "name": "ipython",
        "version": 3
      },
      "file_extension": ".py",
      "mimetype": "text/x-python",
      "name": "python",
      "nbconvert_exporter": "python",
      "pygments_lexer": "ipython3",
      "version": "3.7.3"
    },
    "colab": {
      "provenance": []
    }
  },
  "cells": [
    {
      "cell_type": "markdown",
      "source": [
        "Créditos de participação na confecção e aprimoramento deste material aos profs. Andrei Braga, Andressa Seben, Felipe Grando e Marina Girolimetto. Síntese e aprimoramento 2024-1 por Professor Valdemar Lorenzon Junior"
      ],
      "metadata": {
        "id": "t07i5Ht0g6W0"
      }
    },
    {
      "cell_type": "markdown",
      "metadata": {
        "id": "IIptaBZvPFdp"
      },
      "source": [
        "# Introdução ao Colab e à linguagem de programação Python\n",
        "---"
      ]
    },
    {
      "cell_type": "markdown",
      "source": [
        "* O Colab é um serviço de nuvem oferecido pelo Google que hospeda ambientes de desenvolvimento que executam o sistema Jupyter, um serviço web que pode ser usado para guardar notas, código e dados em um mesmo lugar;\n",
        "\n",
        "* É necessário uma conta de e-mail no Gmail para utilizá-lo;\n",
        "\n",
        "* É acessado pelo endereço URL `colab.google`;\n",
        "\n",
        "* Usando o Colab você está executando seus códigos em um servidor remoto do Google. Ele limita os recursos disponíveis (memória e processamento) conforme o plano de uso (livre ou pago)."
      ],
      "metadata": {
        "id": "T2MKl3YxzAcv"
      }
    },
    {
      "cell_type": "markdown",
      "metadata": {
        "id": "XmT4P_DvPFds"
      },
      "source": [
        "## Dicas de uso e configuração do Colab\n",
        "---"
      ]
    },
    {
      "cell_type": "markdown",
      "source": [
        "* Salvamento\n",
        "** As alterações feitas no arquivo do Colab são salvas automaticamente (mesmo comportamento de documentos do Google Drive). É possível garantir que o arquivo foi salvo pressionando o atalhao `Ctrl+S` ou acessando o menu `Ficheiro` e clicando na opção `Guardar`. Uma mensagem informando que `Todas as alterações foram guardadas.` deverá aparecer ao lado do menu `Ajuda`.\n",
        "\n",
        "* Células\n",
        "** As células do Colab são divididas em células de código, usadas para escrever e executar programas, e células de texto, usadas para fazer anotações.\n",
        "** Você pode adicionar novas células no Colab ao clicar em `+Código` ou `+Texto` no canto superior esquerdo da tela.\n",
        "** O conteúdo de cada célula textual pode ser editado ao clicar sobre a mesma duas vezes.\n",
        "** As configurações e opções de cada célula aparecem em uma barra superior a direita após clicar sobre a mesma.\n",
        "\n",
        "\n",
        "* Código\n",
        "** Para executar uma célula de código basta clicar no botão que aparece ao colocar o mouse no canto esquerdo (dentro dos colchetes).\n",
        "** A primeira execução de uma célula de código no Colab demorará um pouco mais pois o serviço de execução no servidor será inicializado.\n",
        "** A saída padrão do código, se utilizada, será impressa logo abaixo da célula executada.\n",
        "** O contexto de programação é único dentro do mesmo arquivo do Colab, ou seja, o interpretador do programa considerará que todas as células executadas fazem parte de um mesmo programa/contexto e usará a sequência em que foram executadas.\n",
        "** Células de código que não foram executadas não serão consideradas no contexto do programa.\n",
        "** O contexto do programa pode ser reinicializada dentro do Colab o menu `Tempo de execução`, opção `Reiniciar sessão`.\n",
        "\n",
        "\n",
        "* Configurações sugeridas\n",
        "** Acesse o painel de configurações do Colab no menu superior, opção `Ferramentas`, `Configurações`.\n",
        "** Na opção `Site` (menu lateral), mude o tema que desejar (dark).\n",
        "** Na opção `Editor`, configure o tamanho da letra conforme sua preferência, altere a `Largura de avanço nos espaços` para o valor 4 (refere-se a quantidade de espaços dados ao usar a tecla tab no código) e marque a opção `Mostrar número de linha`."
      ],
      "metadata": {
        "id": "ibeuwA98zHkp"
      }
    },
    {
      "cell_type": "markdown",
      "metadata": {
        "id": "WYnSM8yLPFdx"
      },
      "source": [
        "##Primeiro programa\n",
        "---"
      ]
    },
    {
      "cell_type": "markdown",
      "source": [
        "Tradicionalmente, o primeiro programa escrito em uma nova linguagem é chamado de `\"Olá, mundo!\"`. Em Python, esse programa fica conforme o exemplo abaixo."
      ],
      "metadata": {
        "id": "1Wd0lCaSfSYD"
      }
    },
    {
      "cell_type": "code",
      "metadata": {
        "id": "iwaM96mdPFd0"
      },
      "source": [
        "print(\"Olá mundo!\")"
      ],
      "execution_count": null,
      "outputs": []
    },
    {
      "cell_type": "markdown",
      "metadata": {
        "id": "65S8OzycXUZw"
      },
      "source": [
        "A função ``print`` (imprimir) serve para colocar um conteúdo na saída padrão no momento em que o programa está em execução.\n",
        "\n",
        "A mensagem a ser impressa deve estar entre aspas (simples ou duplas, desde que sejam ambas iguais).\n"
      ]
    },
    {
      "cell_type": "code",
      "metadata": {
        "id": "onOAGyPrXY65"
      },
      "source": [
        "#print('Meu primeiro programa\")\n",
        "print('Meu primeiro programa')"
      ],
      "execution_count": null,
      "outputs": []
    },
    {
      "cell_type": "code",
      "metadata": {
        "id": "ezEFIe3nXsCu"
      },
      "source": [
        "#print(\"Meu primei 7 ro programa)\n",
        "print(\"Meu primeiro programa\")"
      ],
      "execution_count": null,
      "outputs": []
    },
    {
      "cell_type": "markdown",
      "source": [
        "#Carregando notebooks\n",
        "\n",
        "De posse de um arquivo `.ipynb`, através da caixa inicial de abertura do Google Colab ou pelo menu `Arquivo`, item `Fazer upload de notebook`, carregue o arquivo para o ambiente."
      ],
      "metadata": {
        "id": "TC7a_IDCyrb_"
      }
    }
  ]
}